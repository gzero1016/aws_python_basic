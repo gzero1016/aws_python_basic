{
 "cells": [
  {
   "cell_type": "code",
   "execution_count": 1,
   "metadata": {},
   "outputs": [
    {
     "ename": "NoSuchWindowException",
     "evalue": "Message: no such window: target window already closed\nfrom unknown error: web view not found\n  (Session info: chrome=117.0.5938.88)\nStacktrace:\n0   chromedriver                        0x0000000103336d58 chromedriver + 4336984\n1   chromedriver                        0x000000010332edd4 chromedriver + 4304340\n2   chromedriver                        0x0000000102f5ba5c chromedriver + 293468\n3   chromedriver                        0x0000000102f346c0 chromedriver + 132800\n4   chromedriver                        0x0000000102fc804c chromedriver + 737356\n5   chromedriver                        0x0000000102fdb198 chromedriver + 815512\n6   chromedriver                        0x0000000102f94a5c chromedriver + 526940\n7   chromedriver                        0x0000000102f95908 chromedriver + 530696\n8   chromedriver                        0x00000001032fcda4 chromedriver + 4099492\n9   chromedriver                        0x0000000103301260 chromedriver + 4117088\n10  chromedriver                        0x00000001033074ec chromedriver + 4142316\n11  chromedriver                        0x0000000103301d60 chromedriver + 4119904\n12  chromedriver                        0x00000001032d9a34 chromedriver + 3955252\n13  chromedriver                        0x000000010331ea08 chromedriver + 4237832\n14  chromedriver                        0x000000010331eb84 chromedriver + 4238212\n15  chromedriver                        0x000000010332ea4c chromedriver + 4303436\n16  libsystem_pthread.dylib             0x0000000196cdbfa8 _pthread_start + 148\n17  libsystem_pthread.dylib             0x0000000196cd6da0 thread_start + 8\n",
     "output_type": "error",
     "traceback": [
      "\u001b[0;31m---------------------------------------------------------------------------\u001b[0m",
      "\u001b[0;31mNoSuchWindowException\u001b[0m                     Traceback (most recent call last)",
      "\u001b[1;32m/Users/gzero/AWS/python/basic/web_crawling/selenium_study.ipynb 셀 1\u001b[0m line \u001b[0;36m1\n\u001b[1;32m     <a href='vscode-notebook-cell:/Users/gzero/AWS/python/basic/web_crawling/selenium_study.ipynb#W0sZmlsZQ%3D%3D?line=11'>12</a>\u001b[0m time\u001b[39m.\u001b[39msleep(\u001b[39m3\u001b[39m)\n\u001b[1;32m     <a href='vscode-notebook-cell:/Users/gzero/AWS/python/basic/web_crawling/selenium_study.ipynb#W0sZmlsZQ%3D%3D?line=13'>14</a>\u001b[0m searchValue \u001b[39m=\u001b[39m \u001b[39minput\u001b[39m(\u001b[39m\"\u001b[39m\u001b[39m검색어 입력: \u001b[39m\u001b[39m\"\u001b[39m)\n\u001b[0;32m---> <a href='vscode-notebook-cell:/Users/gzero/AWS/python/basic/web_crawling/selenium_study.ipynb#W0sZmlsZQ%3D%3D?line=15'>16</a>\u001b[0m searchInput \u001b[39m=\u001b[39m driver\u001b[39m.\u001b[39mfind_element(by\u001b[39m=\u001b[39mBy\u001b[39m.\u001b[39mCSS_SELECTOR, value\u001b[39m=\u001b[39m\u001b[39m\"\u001b[39m\u001b[39m#query\u001b[39m\u001b[39m\"\u001b[39m)\n\u001b[1;32m     <a href='vscode-notebook-cell:/Users/gzero/AWS/python/basic/web_crawling/selenium_study.ipynb#W0sZmlsZQ%3D%3D?line=16'>17</a>\u001b[0m searchInput\u001b[39m.\u001b[39msend_keys(searchValue) \u001b[39m# 입력\u001b[39;00m\n\u001b[1;32m     <a href='vscode-notebook-cell:/Users/gzero/AWS/python/basic/web_crawling/selenium_study.ipynb#W0sZmlsZQ%3D%3D?line=17'>18</a>\u001b[0m searchInput\u001b[39m.\u001b[39msend_keys(Keys\u001b[39m.\u001b[39mRETURN) \u001b[39m# 엔터\u001b[39;00m\n",
      "File \u001b[0;32m~/anaconda3/lib/python3.11/site-packages/selenium/webdriver/remote/webdriver.py:738\u001b[0m, in \u001b[0;36mWebDriver.find_element\u001b[0;34m(self, by, value)\u001b[0m\n\u001b[1;32m    735\u001b[0m     by \u001b[39m=\u001b[39m By\u001b[39m.\u001b[39mCSS_SELECTOR\n\u001b[1;32m    736\u001b[0m     value \u001b[39m=\u001b[39m \u001b[39mf\u001b[39m\u001b[39m'\u001b[39m\u001b[39m[name=\u001b[39m\u001b[39m\"\u001b[39m\u001b[39m{\u001b[39;00mvalue\u001b[39m}\u001b[39;00m\u001b[39m\"\u001b[39m\u001b[39m]\u001b[39m\u001b[39m'\u001b[39m\n\u001b[0;32m--> 738\u001b[0m \u001b[39mreturn\u001b[39;00m \u001b[39mself\u001b[39m\u001b[39m.\u001b[39mexecute(Command\u001b[39m.\u001b[39mFIND_ELEMENT, {\u001b[39m\"\u001b[39m\u001b[39musing\u001b[39m\u001b[39m\"\u001b[39m: by, \u001b[39m\"\u001b[39m\u001b[39mvalue\u001b[39m\u001b[39m\"\u001b[39m: value})[\u001b[39m\"\u001b[39m\u001b[39mvalue\u001b[39m\u001b[39m\"\u001b[39m]\n",
      "File \u001b[0;32m~/anaconda3/lib/python3.11/site-packages/selenium/webdriver/remote/webdriver.py:344\u001b[0m, in \u001b[0;36mWebDriver.execute\u001b[0;34m(self, driver_command, params)\u001b[0m\n\u001b[1;32m    342\u001b[0m response \u001b[39m=\u001b[39m \u001b[39mself\u001b[39m\u001b[39m.\u001b[39mcommand_executor\u001b[39m.\u001b[39mexecute(driver_command, params)\n\u001b[1;32m    343\u001b[0m \u001b[39mif\u001b[39;00m response:\n\u001b[0;32m--> 344\u001b[0m     \u001b[39mself\u001b[39m\u001b[39m.\u001b[39merror_handler\u001b[39m.\u001b[39mcheck_response(response)\n\u001b[1;32m    345\u001b[0m     response[\u001b[39m\"\u001b[39m\u001b[39mvalue\u001b[39m\u001b[39m\"\u001b[39m] \u001b[39m=\u001b[39m \u001b[39mself\u001b[39m\u001b[39m.\u001b[39m_unwrap_value(response\u001b[39m.\u001b[39mget(\u001b[39m\"\u001b[39m\u001b[39mvalue\u001b[39m\u001b[39m\"\u001b[39m, \u001b[39mNone\u001b[39;00m))\n\u001b[1;32m    346\u001b[0m     \u001b[39mreturn\u001b[39;00m response\n",
      "File \u001b[0;32m~/anaconda3/lib/python3.11/site-packages/selenium/webdriver/remote/errorhandler.py:229\u001b[0m, in \u001b[0;36mErrorHandler.check_response\u001b[0;34m(self, response)\u001b[0m\n\u001b[1;32m    227\u001b[0m         alert_text \u001b[39m=\u001b[39m value[\u001b[39m\"\u001b[39m\u001b[39malert\u001b[39m\u001b[39m\"\u001b[39m]\u001b[39m.\u001b[39mget(\u001b[39m\"\u001b[39m\u001b[39mtext\u001b[39m\u001b[39m\"\u001b[39m)\n\u001b[1;32m    228\u001b[0m     \u001b[39mraise\u001b[39;00m exception_class(message, screen, stacktrace, alert_text)  \u001b[39m# type: ignore[call-arg]  # mypy is not smart enough here\u001b[39;00m\n\u001b[0;32m--> 229\u001b[0m \u001b[39mraise\u001b[39;00m exception_class(message, screen, stacktrace)\n",
      "\u001b[0;31mNoSuchWindowException\u001b[0m: Message: no such window: target window already closed\nfrom unknown error: web view not found\n  (Session info: chrome=117.0.5938.88)\nStacktrace:\n0   chromedriver                        0x0000000103336d58 chromedriver + 4336984\n1   chromedriver                        0x000000010332edd4 chromedriver + 4304340\n2   chromedriver                        0x0000000102f5ba5c chromedriver + 293468\n3   chromedriver                        0x0000000102f346c0 chromedriver + 132800\n4   chromedriver                        0x0000000102fc804c chromedriver + 737356\n5   chromedriver                        0x0000000102fdb198 chromedriver + 815512\n6   chromedriver                        0x0000000102f94a5c chromedriver + 526940\n7   chromedriver                        0x0000000102f95908 chromedriver + 530696\n8   chromedriver                        0x00000001032fcda4 chromedriver + 4099492\n9   chromedriver                        0x0000000103301260 chromedriver + 4117088\n10  chromedriver                        0x00000001033074ec chromedriver + 4142316\n11  chromedriver                        0x0000000103301d60 chromedriver + 4119904\n12  chromedriver                        0x00000001032d9a34 chromedriver + 3955252\n13  chromedriver                        0x000000010331ea08 chromedriver + 4237832\n14  chromedriver                        0x000000010331eb84 chromedriver + 4238212\n15  chromedriver                        0x000000010332ea4c chromedriver + 4303436\n16  libsystem_pthread.dylib             0x0000000196cdbfa8 _pthread_start + 148\n17  libsystem_pthread.dylib             0x0000000196cd6da0 thread_start + 8\n"
     ]
    }
   ],
   "source": [
    "# 크롬 드라이버\n",
    "from selenium import webdriver\n",
    "from selenium.webdriver.common.keys import Keys\n",
    "from selenium.webdriver.common.by import By\n",
    "\n",
    "import time\n",
    "\n",
    "driver = webdriver.Chrome()\n",
    "\n",
    "driver.get('https://www.naver.com/')\n",
    "\n",
    "time.sleep(3)\n",
    "\n",
    "searchValue = input(\"검색어 입력: \")\n",
    "\n",
    "searchInput = driver.find_element(by=By.CSS_SELECTOR, value=\"#query\")\n",
    "searchInput.send_keys(searchValue) # 입력\n",
    "searchInput.send_keys(Keys.RETURN) # 엔터\n",
    "\n",
    "time.sleep(2)\n",
    "\n",
    "# 오른쪽으로 이동버튼 클릭\n",
    "driver.find_element(by=By.XPATH, value='//*[@id=\"lnb\"]/div[1]/div/div[1]/div/div[2]/div[2]/a').click()\n",
    "time.sleep(1)\n",
    "\n",
    "#뉴스탭 클릭\n",
    "driver.find_element(by=By.XPATH, value='//*[@id=\"lnb\"]/div[1]/div/div[1]/div/div[1]/div[7]/a').click()\n",
    "time.sleep(2)\n",
    "\n",
    "# 뉴스타이틀 크롤링\n",
    "newsTitles = driver.find_elements(by=By.CSS_SELECTOR, value='.news_tit')\n",
    "for title in newsTitles:\n",
    "    print(title.text)\n",
    "\n",
    "for i in range(2, 5):\n",
    "    driver.find_element(by=By.XPATH, value=f'//*[@id=\"main_pack\"]/div[2]/div/div/a[{i}]').click()\n",
    "    time.sleep(2)\n",
    "    newsTitles = driver.find_elements(by=By.CSS_SELECTOR, value='.news_tit')\n",
    "    for title in newsTitles:\n",
    "        print(title.text)"
   ]
  },
  {
   "cell_type": "code",
   "execution_count": null,
   "metadata": {},
   "outputs": [],
   "source": []
  }
 ],
 "metadata": {
  "kernelspec": {
   "display_name": "base",
   "language": "python",
   "name": "python3"
  },
  "language_info": {
   "codemirror_mode": {
    "name": "ipython",
    "version": 3
   },
   "file_extension": ".py",
   "mimetype": "text/x-python",
   "name": "python",
   "nbconvert_exporter": "python",
   "pygments_lexer": "ipython3",
   "version": "3.11.5"
  },
  "orig_nbformat": 4
 },
 "nbformat": 4,
 "nbformat_minor": 2
}
