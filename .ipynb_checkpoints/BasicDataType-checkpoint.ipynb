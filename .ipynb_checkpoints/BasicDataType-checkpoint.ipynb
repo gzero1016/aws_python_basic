{
 "cells": [
  {
   "cell_type": "code",
   "execution_count": 9,
   "id": "e6fb6d28",
   "metadata": {},
   "outputs": [],
   "source": [
    "num = 10"
   ]
  },
  {
   "cell_type": "code",
   "execution_count": 10,
   "id": "86c023a3",
   "metadata": {},
   "outputs": [],
   "source": [
    "num2 = 20"
   ]
  },
  {
   "cell_type": "code",
   "execution_count": 11,
   "id": "cc8c8314",
   "metadata": {},
   "outputs": [
    {
     "data": {
      "text/plain": [
       "30"
      ]
     },
     "execution_count": 11,
     "metadata": {},
     "output_type": "execute_result"
    }
   ],
   "source": [
    "num + num2"
   ]
  },
  {
   "cell_type": "code",
   "execution_count": 13,
   "id": "3a4a7e85",
   "metadata": {},
   "outputs": [],
   "source": [
    "name = '김준일'"
   ]
  },
  {
   "cell_type": "code",
   "execution_count": 15,
   "id": "f61d1a2c",
   "metadata": {},
   "outputs": [],
   "source": [
    "address = \"부산\\n동래구\\n중앙대로\\n\""
   ]
  },
  {
   "cell_type": "code",
   "execution_count": 16,
   "id": "3bb457c9",
   "metadata": {},
   "outputs": [
    {
     "name": "stdout",
     "output_type": "stream",
     "text": [
      "부산\n",
      "동래구\n",
      "중앙대로\n",
      "\n"
     ]
    }
   ],
   "source": [
    "print(address)"
   ]
  },
  {
   "cell_type": "code",
   "execution_count": 17,
   "id": "76ed1936",
   "metadata": {},
   "outputs": [],
   "source": [
    "address2 = \"\"\"부산\n",
    "동래구\n",
    "중앙대로\"\"\""
   ]
  },
  {
   "cell_type": "code",
   "execution_count": 18,
   "id": "0d26f168",
   "metadata": {},
   "outputs": [
    {
     "name": "stdout",
     "output_type": "stream",
     "text": [
      "부산\n",
      "동래구\n",
      "중앙대로\n"
     ]
    }
   ],
   "source": [
    "print(address2)"
   ]
  },
  {
   "cell_type": "code",
   "execution_count": 21,
   "id": "1ea5e475",
   "metadata": {},
   "outputs": [],
   "source": [
    "sql = \"\"\"\n",
    "select\n",
    "    *\n",
    "from\n",
    "    user_tb\"\"\""
   ]
  },
  {
   "cell_type": "code",
   "execution_count": 22,
   "id": "427073d1",
   "metadata": {},
   "outputs": [
    {
     "name": "stdout",
     "output_type": "stream",
     "text": [
      "\n",
      "select\n",
      "    *\n",
      "from\n",
      "    user_tb\n"
     ]
    }
   ],
   "source": [
    "print(sql)"
   ]
  },
  {
   "cell_type": "code",
   "execution_count": 23,
   "id": "af4a0aa4",
   "metadata": {},
   "outputs": [],
   "source": [
    "isEmpty = len(sql) == 0"
   ]
  },
  {
   "cell_type": "code",
   "execution_count": 24,
   "id": "72703c6c",
   "metadata": {},
   "outputs": [
    {
     "name": "stdout",
     "output_type": "stream",
     "text": [
      "False\n"
     ]
    }
   ],
   "source": [
    "print(isEmpty)"
   ]
  },
  {
   "cell_type": "code",
   "execution_count": 27,
   "id": "288e5257",
   "metadata": {},
   "outputs": [],
   "source": [
    "isShow = True\n",
    "isSelect = False"
   ]
  },
  {
   "cell_type": "code",
   "execution_count": 29,
   "id": "961cf7fb",
   "metadata": {},
   "outputs": [
    {
     "ename": "SyntaxError",
     "evalue": "invalid syntax (650016495.py, line 1)",
     "output_type": "error",
     "traceback": [
      "\u001b[0;36m  Cell \u001b[0;32mIn[29], line 1\u001b[0;36m\u001b[0m\n\u001b[0;31m    print(isShow && isSelect)\u001b[0m\n\u001b[0m                  ^\u001b[0m\n\u001b[0;31mSyntaxError\u001b[0m\u001b[0;31m:\u001b[0m invalid syntax\n"
     ]
    }
   ],
   "source": [
    "print(isShow && isSelect)"
   ]
  },
  {
   "cell_type": "code",
   "execution_count": 34,
   "id": "6f934ba1",
   "metadata": {},
   "outputs": [
    {
     "name": "stdout",
     "output_type": "stream",
     "text": [
      "True\n"
     ]
    }
   ],
   "source": [
    "print(isShow and not isSelect)"
   ]
  },
  {
   "cell_type": "code",
   "execution_count": 35,
   "id": "4b0a1a14",
   "metadata": {},
   "outputs": [
    {
     "name": "stdout",
     "output_type": "stream",
     "text": [
      "True\n"
     ]
    }
   ],
   "source": [
    "print(isShow or isSelect)"
   ]
  },
  {
   "cell_type": "code",
   "execution_count": null,
   "id": "d94c0dd5",
   "metadata": {},
   "outputs": [],
   "source": []
  }
 ],
 "metadata": {
  "kernelspec": {
   "display_name": "Python 3 (ipykernel)",
   "language": "python",
   "name": "python3"
  },
  "language_info": {
   "codemirror_mode": {
    "name": "ipython",
    "version": 3
   },
   "file_extension": ".py",
   "mimetype": "text/x-python",
   "name": "python",
   "nbconvert_exporter": "python",
   "pygments_lexer": "ipython3",
   "version": "3.11.4"
  }
 },
 "nbformat": 4,
 "nbformat_minor": 5
}
