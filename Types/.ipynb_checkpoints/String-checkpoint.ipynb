{
 "cells": [
  {
   "cell_type": "code",
   "execution_count": 1,
   "id": "22dce09a",
   "metadata": {},
   "outputs": [],
   "source": [
    "str = \"'test'\""
   ]
  },
  {
   "cell_type": "code",
   "execution_count": 2,
   "id": "7471c4d0",
   "metadata": {},
   "outputs": [
    {
     "name": "stdout",
     "output_type": "stream",
     "text": [
      "'test'\n"
     ]
    }
   ],
   "source": [
    "print(str)"
   ]
  },
  {
   "cell_type": "code",
   "execution_count": 5,
   "id": "c3ba36d2",
   "metadata": {},
   "outputs": [
    {
     "name": "stdout",
     "output_type": "stream",
     "text": [
      "'aaa', \"aaa\"\n"
     ]
    }
   ],
   "source": [
    "print(\"'aaa', \\\"aaa\\\"\")"
   ]
  },
  {
   "cell_type": "code",
   "execution_count": 8,
   "id": "165b2e14",
   "metadata": {},
   "outputs": [
    {
     "name": "stdout",
     "output_type": "stream",
     "text": [
      "\"aaa\", 'bbb'\n"
     ]
    }
   ],
   "source": [
    "print('\"aaa\", \\'bbb\\'')"
   ]
  },
  {
   "cell_type": "code",
   "execution_count": 13,
   "id": "29220737",
   "metadata": {},
   "outputs": [
    {
     "name": "stdout",
     "output_type": "stream",
     "text": [
      "김준일\n",
      "김준일\n",
      "김준일\n",
      "\n"
     ]
    }
   ],
   "source": [
    "print(\"김준일\\n\" *3)"
   ]
  },
  {
   "cell_type": "code",
   "execution_count": 19,
   "id": "cf5f7b3a",
   "metadata": {},
   "outputs": [],
   "source": [
    "address = \"부산 동래구 중앙대로 1285번길\""
   ]
  },
  {
   "cell_type": "code",
   "execution_count": 20,
   "id": "f5c89073",
   "metadata": {},
   "outputs": [
    {
     "name": "stdout",
     "output_type": "stream",
     "text": [
      "부\n"
     ]
    }
   ],
   "source": [
    "print(address[0])"
   ]
  },
  {
   "cell_type": "code",
   "execution_count": 26,
   "id": "6ccbbbe6",
   "metadata": {},
   "outputs": [
    {
     "name": "stdout",
     "output_type": "stream",
     "text": [
      "부산 동래구\n"
     ]
    }
   ],
   "source": [
    "print(address[:6])"
   ]
  },
  {
   "cell_type": "code",
   "execution_count": 27,
   "id": "ad76cee6",
   "metadata": {},
   "outputs": [
    {
     "name": "stdout",
     "output_type": "stream",
     "text": [
      "중앙대로 1285번길\n"
     ]
    }
   ],
   "source": [
    "print(address[7:])"
   ]
  },
  {
   "cell_type": "code",
   "execution_count": 28,
   "id": "3500cd4a",
   "metadata": {},
   "outputs": [],
   "source": [
    "names = [\"김준일\", \"김준이\", \"김준삼\", \"김준사\"]"
   ]
  },
  {
   "cell_type": "code",
   "execution_count": 41,
   "id": "8ce19d4f",
   "metadata": {},
   "outputs": [
    {
     "name": "stdout",
     "output_type": "stream",
     "text": [
      "준일\n",
      "준이\n",
      "준삼\n",
      "준사\n"
     ]
    }
   ],
   "source": [
    "print(names[0] [1:])\n",
    "print(names[1] [1:])\n",
    "print(names[2] [1:])\n",
    "print(names[3] [1:])"
   ]
  },
  {
   "cell_type": "code",
   "execution_count": 46,
   "id": "eac28859",
   "metadata": {},
   "outputs": [
    {
     "name": "stdout",
     "output_type": "stream",
     "text": [
      "준일\n",
      "준이\n",
      "준삼\n",
      "준사\n"
     ]
    }
   ],
   "source": [
    "for i in range(len(names)):\n",
    "    print(names[i] [1:])"
   ]
  },
  {
   "cell_type": "code",
   "execution_count": 47,
   "id": "044ebe88",
   "metadata": {},
   "outputs": [
    {
     "name": "stdout",
     "output_type": "stream",
     "text": [
      "range(0, 10)\n"
     ]
    }
   ],
   "source": [
    "print(range(10))"
   ]
  },
  {
   "cell_type": "code",
   "execution_count": 49,
   "id": "e99e0d68",
   "metadata": {},
   "outputs": [
    {
     "name": "stdout",
     "output_type": "stream",
     "text": [
      "\n",
      "select\n",
      "    *\n",
      "from\n",
      "    user_tb\n",
      "where\n",
      "    username = aaa\n",
      "\n"
     ]
    }
   ],
   "source": [
    "username = \"aaa\"\n",
    "\n",
    "sql = f\"\"\"\n",
    "select\n",
    "    *\n",
    "from\n",
    "    user_tb\n",
    "where\n",
    "    username = {username}\n",
    "\"\"\"\n",
    "\n",
    "print(sql)"
   ]
  },
  {
   "cell_type": "code",
   "execution_count": 61,
   "id": "a2c9f4b8",
   "metadata": {},
   "outputs": [
    {
     "name": "stdout",
     "output_type": "stream",
     "text": [
      "2\n",
      "-1\n",
      "2\n"
     ]
    }
   ],
   "source": [
    "name = \"김김일\"\n",
    "print(name.count('김'))\n",
    "print(name.find('이'))\n",
    "print(name.index('일'))"
   ]
  },
  {
   "cell_type": "code",
   "execution_count": 73,
   "id": "4076bfbf",
   "metadata": {},
   "outputs": [
    {
     "name": "stdout",
     "output_type": "stream",
     "text": [
      "김준일\n",
      "김 준 일\n",
      " \n"
     ]
    }
   ],
   "source": [
    "name = \"김준일\"\n",
    "print(name)\n",
    "print(\" \".join(name))\n",
    "print(name.join(\" \"))"
   ]
  }
 ],
 "metadata": {
  "kernelspec": {
   "display_name": "Python 3 (ipykernel)",
   "language": "python",
   "name": "python3"
  },
  "language_info": {
   "codemirror_mode": {
    "name": "ipython",
    "version": 3
   },
   "file_extension": ".py",
   "mimetype": "text/x-python",
   "name": "python",
   "nbconvert_exporter": "python",
   "pygments_lexer": "ipython3",
   "version": "3.11.4"
  }
 },
 "nbformat": 4,
 "nbformat_minor": 5
}
