{
 "cells": [
  {
   "cell_type": "code",
   "execution_count": 1,
   "id": "a66d7eed",
   "metadata": {},
   "outputs": [
    {
     "name": "stdout",
     "output_type": "stream",
     "text": [
      "X : 472\n",
      "y : 385\n",
      "2360\n",
      "3776\n",
      "1416\n",
      "181720\n"
     ]
    }
   ],
   "source": [
    "x = list(map(int, input(\"X : \")))\n",
    "y = list(map(int, input(\"y : \")))\n",
    "\n",
    "x.reverse()\n",
    "y.reverse()\n",
    "\n",
    "result = 0\n",
    "i = 0\n",
    "\n",
    "for numY in y:\n",
    "    j = 0\n",
    "    subResult = 0\n",
    "    \n",
    "    for numX in x:\n",
    "        subResult += numX * numY * (10 ** j)\n",
    "        j += 1\n",
    "        \n",
    "    print(subResult)\n",
    "    result += subResult * (10 ** i)\n",
    "    i += 1\n",
    "print(result)"
   ]
  },
  {
   "cell_type": "code",
   "execution_count": null,
   "id": "f0ee3e6a",
   "metadata": {},
   "outputs": [],
   "source": []
  }
 ],
 "metadata": {
  "kernelspec": {
   "display_name": "Python 3 (ipykernel)",
   "language": "python",
   "name": "python3"
  },
  "language_info": {
   "codemirror_mode": {
    "name": "ipython",
    "version": 3
   },
   "file_extension": ".py",
   "mimetype": "text/x-python",
   "name": "python",
   "nbconvert_exporter": "python",
   "pygments_lexer": "ipython3",
   "version": "3.11.4"
  }
 },
 "nbformat": 4,
 "nbformat_minor": 5
}
