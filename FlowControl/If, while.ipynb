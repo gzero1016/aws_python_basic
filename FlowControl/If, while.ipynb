{
 "cells": [
  {
   "cell_type": "code",
   "execution_count": 6,
   "id": "9c2d164f",
   "metadata": {},
   "outputs": [
    {
     "name": "stdout",
     "output_type": "stream",
     "text": [
      "거짓\n"
     ]
    }
   ],
   "source": [
    "username = \"bbb\"\n",
    "password = \"12344\"\n",
    "\n",
    "if username == \"aaa\" and password == \"1234\":\n",
    "    print(\"참\")\n",
    "else:\n",
    "    print(\"거짓\")"
   ]
  },
  {
   "cell_type": "code",
   "execution_count": 7,
   "id": "15adf663",
   "metadata": {},
   "outputs": [
    {
     "name": "stdout",
     "output_type": "stream",
     "text": [
      "둘다 다름\n"
     ]
    }
   ],
   "source": [
    "if username == \"aaa\":\n",
    "    print(\"username이 같음\")\n",
    "elif password == \"1234\":\n",
    "    print(\"password가 같음\")\n",
    "else:\n",
    "    print(\"둘다 다름\")"
   ]
  },
  {
   "cell_type": "code",
   "execution_count": 9,
   "id": "577b77c8",
   "metadata": {},
   "outputs": [
    {
     "name": "stdout",
     "output_type": "stream",
     "text": [
      "메뉴입력:1\n",
      "while 반복\n",
      "메뉴입력:2\n",
      "while 반복\n",
      "메뉴입력:3\n",
      "while 반복\n",
      "메뉴입력:4\n",
      "while 반복\n",
      "메뉴입력:5\n",
      "while 반복\n",
      "메뉴입력:q\n"
     ]
    }
   ],
   "source": [
    "while True:\n",
    "    menu = input(\"메뉴입력:\")\n",
    "    if menu == \"q\":\n",
    "        break\n",
    "        \n",
    "    print(\"while 반복\")"
   ]
  },
  {
   "cell_type": "code",
   "execution_count": null,
   "id": "745d8a25",
   "metadata": {},
   "outputs": [],
   "source": []
  }
 ],
 "metadata": {
  "kernelspec": {
   "display_name": "Python 3 (ipykernel)",
   "language": "python",
   "name": "python3"
  },
  "language_info": {
   "codemirror_mode": {
    "name": "ipython",
    "version": 3
   },
   "file_extension": ".py",
   "mimetype": "text/x-python",
   "name": "python",
   "nbconvert_exporter": "python",
   "pygments_lexer": "ipython3",
   "version": "3.11.4"
  }
 },
 "nbformat": 4,
 "nbformat_minor": 5
}
