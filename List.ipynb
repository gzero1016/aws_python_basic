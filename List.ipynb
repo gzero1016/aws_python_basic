{
 "cells": [
  {
   "cell_type": "code",
   "execution_count": 2,
   "id": "3ce6500a",
   "metadata": {},
   "outputs": [
    {
     "name": "stdout",
     "output_type": "stream",
     "text": [
      "[1, 2, 3, 4, 5, ['김준일', '김준이', [True, False, False], [1.1, 2.2, 3.3]]]\n"
     ]
    }
   ],
   "source": [
    "list = [1, 2, 3, 4, 5, [\"김준일\", \"김준이\", [True, False, False], [1.1, 2.2, 3.3]]]\n",
    "print(list)"
   ]
  },
  {
   "cell_type": "code",
   "execution_count": 5,
   "id": "428b38f5",
   "metadata": {},
   "outputs": [
    {
     "name": "stdout",
     "output_type": "stream",
     "text": [
      "[False, False]\n"
     ]
    }
   ],
   "source": [
    "print(list[-1][-2][1:])"
   ]
  },
  {
   "cell_type": "code",
   "execution_count": 11,
   "id": "a6fb938a",
   "metadata": {},
   "outputs": [
    {
     "name": "stdout",
     "output_type": "stream",
     "text": [
      "[1, 2, 3, 4, 5, 6, 7, 8]\n",
      "[1, 2, 3, 4]\n",
      "[1, 2, 3, 4, 5, 6, 7, 8]\n"
     ]
    }
   ],
   "source": [
    "list = [1, 2, 3, 4]\n",
    "list2 = [5, 6, 7, 8]\n",
    "\n",
    "print(list + list2)\n",
    "print(list)\n",
    "\n",
    "list.extend(list2)\n",
    "print(list)"
   ]
  },
  {
   "cell_type": "code",
   "execution_count": 16,
   "id": "3eb52b1b",
   "metadata": {},
   "outputs": [
    {
     "name": "stdout",
     "output_type": "stream",
     "text": [
      "3\n",
      "1 1\n"
     ]
    }
   ],
   "source": [
    "t = (1, 2, 3)\n",
    "print(t [2])\n",
    "t = (1,)\n",
    "list = [1]\n",
    "print(t[0], list[0])"
   ]
  }
 ],
 "metadata": {
  "kernelspec": {
   "display_name": "Python 3 (ipykernel)",
   "language": "python",
   "name": "python3"
  },
  "language_info": {
   "codemirror_mode": {
    "name": "ipython",
    "version": 3
   },
   "file_extension": ".py",
   "mimetype": "text/x-python",
   "name": "python",
   "nbconvert_exporter": "python",
   "pygments_lexer": "ipython3",
   "version": "3.11.4"
  }
 },
 "nbformat": 4,
 "nbformat_minor": 5
}
